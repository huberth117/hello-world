{
  "nbformat": 4,
  "nbformat_minor": 0,
  "metadata": {
    "colab": {
      "provenance": [],
      "toc_visible": true,
      "include_colab_link": true
    },
    "kernelspec": {
      "name": "python3",
      "display_name": "Python 3"
    }
  },
  "cells": [
    {
      "cell_type": "markdown",
      "metadata": {
        "id": "view-in-github",
        "colab_type": "text"
      },
      "source": [
        "<a href=\"https://colab.research.google.com/github/huberth117/hello-world/blob/master/Clase_02_Numpy_II.ipynb\" target=\"_parent\"><img src=\"https://colab.research.google.com/assets/colab-badge.svg\" alt=\"Open In Colab\"/></a>"
      ]
    },
    {
      "cell_type": "markdown",
      "metadata": {
        "id": "TL2iIrOSr-vS"
      },
      "source": [
        "# **Concatenación de arreglos**\n",
        "\n",
        "\n",
        "La concatenación, o unión de dos arreglos en NumPy, se realiza principalmente a través de la función `concatenate`:"
      ]
    },
    {
      "cell_type": "code",
      "metadata": {
        "id": "30pTH355WHzt",
        "colab": {
          "base_uri": "https://localhost:8080/"
        },
        "outputId": "38755585-0c93-4a32-d295-e5b00c82ad53"
      },
      "source": [
        "import numpy as np\n",
        "l = [1,2,3]\n",
        "m = [4,5,6]\n",
        "a=np.array(l)\n",
        "b=np.array(m)\n",
        "print(a)\n",
        "print(m)\n"
      ],
      "execution_count": null,
      "outputs": [
        {
          "output_type": "stream",
          "name": "stdout",
          "text": [
            "[1 2 3]\n",
            "[4, 5, 6]\n"
          ]
        }
      ]
    },
    {
      "cell_type": "code",
      "metadata": {
        "id": "Uz_G-Xb4sBYh",
        "colab": {
          "base_uri": "https://localhost:8080/",
          "height": 177
        },
        "outputId": "d082062c-02b5-4d28-c777-0edea3562e23"
      },
      "source": [],
      "execution_count": null,
      "outputs": [
        {
          "output_type": "error",
          "ename": "TypeError",
          "evalue": "ignored",
          "traceback": [
            "\u001b[0;31m---------------------------------------------------------------------------\u001b[0m",
            "\u001b[0;31mTypeError\u001b[0m                                 Traceback (most recent call last)",
            "\u001b[0;32m<ipython-input-10-0b87e544a01a>\u001b[0m in \u001b[0;36m<cell line: 1>\u001b[0;34m()\u001b[0m\n\u001b[0;32m----> 1\u001b[0;31m \u001b[0mnp\u001b[0m\u001b[0;34m.\u001b[0m\u001b[0mconcatenate\u001b[0m\u001b[0;34m[\u001b[0m\u001b[0ma\u001b[0m\u001b[0;34m,\u001b[0m \u001b[0mb\u001b[0m\u001b[0;34m]\u001b[0m\u001b[0;34m\u001b[0m\u001b[0;34m\u001b[0m\u001b[0m\n\u001b[0m",
            "\u001b[0;31mTypeError\u001b[0m: 'function' object is not subscriptable"
          ]
        }
      ]
    },
    {
      "cell_type": "markdown",
      "metadata": {
        "id": "zcNOU4kSsC1b"
      },
      "source": [
        "Podemos concatenar más de dos arreglos al tiempo:"
      ]
    },
    {
      "cell_type": "code",
      "metadata": {
        "id": "K7f86U0GsEIW"
      },
      "source": [],
      "execution_count": null,
      "outputs": []
    },
    {
      "cell_type": "markdown",
      "metadata": {
        "id": "VPqoXckzsGa-"
      },
      "source": [
        "`concatenate` también se puede usar para arreglos bidimensionales. Recuerde que las filas corresponden al eje 1 (axis = 1) y las columnas al eje 0 (axis = 0)\n",
        "\n",
        "\n",
        "<p><img alt=\"Colaboratory logo\" height=\"300px\" src=\"https://i.imgur.com/KYPgvhf.png\" align=\"left\" hspace=\"10px\" vspace=\"0px\"></p>"
      ]
    },
    {
      "cell_type": "code",
      "metadata": {
        "id": "rAFfAXkIsG96"
      },
      "source": [],
      "execution_count": null,
      "outputs": []
    },
    {
      "cell_type": "code",
      "metadata": {
        "id": "Q25jz3A3sSwA"
      },
      "source": [],
      "execution_count": null,
      "outputs": []
    },
    {
      "cell_type": "markdown",
      "metadata": {
        "id": "RzHXLfyOsUvW"
      },
      "source": [
        "Si queremos realizar la concatenación a lo largo del eje 1, debemos especificar el eje por medio de un argumento por palabra clave:"
      ]
    },
    {
      "cell_type": "code",
      "metadata": {
        "id": "VLr5NQ4ksWXQ"
      },
      "source": [],
      "execution_count": null,
      "outputs": []
    },
    {
      "cell_type": "markdown",
      "metadata": {
        "id": "MZE1_jAJsYle"
      },
      "source": [
        "La función `vstack()` es equivalente a la concatenación a lo largo del primer eje (axis=0). Al igual que `concatenate()`, recibe como argumento una secuencia de arreglos que, en este caso, deben tener la misma forma a lo largo de todos los ejes, excepto el primero. Los arreglos unidimensionales deben tener la misma longitud:"
      ]
    },
    {
      "cell_type": "code",
      "metadata": {
        "id": "ksN9Gjr3sZM_",
        "colab": {
          "base_uri": "https://localhost:8080/"
        },
        "outputId": "3d3920a7-a4c4-4094-a9d4-050814836c7c"
      },
      "source": [
        "# dimensiones mixtas\n",
        "a = np.array([[1,2], [3,4]])\n",
        "b=np.arange(5, 11).reshape(2,3)\n",
        "print(a)\n",
        "print(b)\n",
        "\n",
        "#np.vstack([a, b])\n"
      ],
      "execution_count": null,
      "outputs": [
        {
          "output_type": "stream",
          "name": "stdout",
          "text": [
            "[[1 2]\n",
            " [3 4]]\n",
            "[[ 5  6  7]\n",
            " [ 8  9 10]]\n"
          ]
        }
      ]
    },
    {
      "cell_type": "code",
      "metadata": {
        "id": "x3_6Q_2FscYp"
      },
      "source": [],
      "execution_count": null,
      "outputs": []
    },
    {
      "cell_type": "code",
      "metadata": {
        "id": "Nt3cnr7Sseuw"
      },
      "source": [
        "#No se puede hacer si presentan dimensionalidad diferente\n"
      ],
      "execution_count": null,
      "outputs": []
    },
    {
      "cell_type": "markdown",
      "metadata": {
        "id": "rNg0TU0asy7E"
      },
      "source": [
        "Similarmente, la función `hstack()` realiza una concatenación a lo largo del segundo eje (axis=1), y los arreglos que toma como argumento deben coincidir en la forma a lo largo de este eje. Los arreglos unidimensionales pueden ser de cualquier longitud"
      ]
    },
    {
      "cell_type": "code",
      "metadata": {
        "id": "KF_CvPe0s0n7"
      },
      "source": [
        "#dimensiones mixtas\n"
      ],
      "execution_count": null,
      "outputs": []
    },
    {
      "cell_type": "code",
      "metadata": {
        "id": "rX6Xkep0s26E"
      },
      "source": [
        "#arreglos unidimensionales\n"
      ],
      "execution_count": null,
      "outputs": []
    },
    {
      "cell_type": "markdown",
      "metadata": {
        "id": "5OoDp82DSLz7"
      },
      "source": [
        "<p><a name=\"ind\"></a></p>\n",
        "\n",
        "# **Indexación y segmentación**\n",
        "\n",
        "Los arreglos de NumPy tienen la misma semántica de indexación y segmentación que las listas de Python cuando se trata de acceder a elementos o subarreglos.\n",
        "\n",
        "\n"
      ]
    },
    {
      "cell_type": "code",
      "metadata": {
        "id": "_2_lSiHvR999",
        "colab": {
          "base_uri": "https://localhost:8080/"
        },
        "outputId": "7631a1f4-3747-47b6-ade7-1fef16d9b8e5"
      },
      "source": [
        "a = np.arange(8)\n",
        "\n",
        "print(f\"a: {a}\")\n",
        "print()\n",
        "print(f\"a[3]: {a[3]}\")\n",
        "print()\n",
        "print(f\"a[2:6]: {a[2:6]}\")"
      ],
      "execution_count": null,
      "outputs": [
        {
          "output_type": "stream",
          "name": "stdout",
          "text": [
            "a: [0 1 2 3 4 5 6 7]\n",
            "\n",
            "a[3]: 3\n",
            "\n",
            "a[2:6]: [2 3 4 5]\n"
          ]
        }
      ]
    },
    {
      "cell_type": "markdown",
      "metadata": {
        "id": "-3pHD5tKTCLn"
      },
      "source": [
        "Debido a que los arreglos de NumPy son n-dimensionales, podemos segmentar a lo largo de todos y cada uno de los ejes. Consideremos la siguiente lista de listas en Python"
      ]
    },
    {
      "cell_type": "code",
      "metadata": {
        "id": "1ytHY5PwTD4f"
      },
      "source": [
        "# definiendo una lista de listas de forma (3,3)\n",
        "L = [[1, 2, 3], [4, 5, 6], [7, 8, 9]]"
      ],
      "execution_count": null,
      "outputs": []
    },
    {
      "cell_type": "markdown",
      "metadata": {
        "id": "8z8_19cnTGlH"
      },
      "source": [
        "Por ejemplo, si queremos crear una lista de Python que contenga todas las filas y las primeras dos columnas de la lista L podríamos escribir"
      ]
    },
    {
      "cell_type": "code",
      "metadata": {
        "id": "Qjkk0-MdTI6U",
        "colab": {
          "base_uri": "https://localhost:8080/"
        },
        "outputId": "e450ce1e-740d-4f6b-f0c0-4106e1c389e9"
      },
      "source": [
        "l_arr = np.array(L)\n",
        "l_arr\n"
      ],
      "execution_count": null,
      "outputs": [
        {
          "output_type": "execute_result",
          "data": {
            "text/plain": [
              "array([[1, 2, 3],\n",
              "       [4, 5, 6],\n",
              "       [7, 8, 9]])"
            ]
          },
          "metadata": {},
          "execution_count": 20
        }
      ]
    },
    {
      "cell_type": "code",
      "source": [
        "for fila in L:\n",
        "  print(fila[:2])"
      ],
      "metadata": {
        "colab": {
          "base_uri": "https://localhost:8080/"
        },
        "id": "UxR3kuSyZCeK",
        "outputId": "c5ee5684-c302-4f45-a74c-92a7f2a4b884"
      },
      "execution_count": null,
      "outputs": [
        {
          "output_type": "stream",
          "name": "stdout",
          "text": [
            "[1, 2]\n",
            "[4, 5]\n",
            "[7, 8]\n"
          ]
        }
      ]
    },
    {
      "cell_type": "markdown",
      "metadata": {
        "id": "8_atGVc5TM__"
      },
      "source": [
        "El número de ciclos `for` anidados que se necesita para segmentar listas de listas es igual al número de dimensiones menos uno (en este caso $2-1=1$).\n",
        "\n",
        "En NumPy, en lugar de indexar por un segmento, podemos indexar por una tupla de segmentos, cada uno de los cuales actúa en sus propias dimensiones. Definamos el arreglo `L` con NumPy y realicemos la segmentación anterior:\n"
      ]
    },
    {
      "cell_type": "code",
      "metadata": {
        "id": "kqTeXNAuTNjD",
        "colab": {
          "base_uri": "https://localhost:8080/"
        },
        "outputId": "0c45bc0c-251c-4671-d151-088d1c28d2d0"
      },
      "source": [
        "l_arr[:,:2]"
      ],
      "execution_count": null,
      "outputs": [
        {
          "output_type": "execute_result",
          "data": {
            "text/plain": [
              "array([[1, 2],\n",
              "       [4, 5],\n",
              "       [7, 8]])"
            ]
          },
          "metadata": {},
          "execution_count": 22
        }
      ]
    },
    {
      "cell_type": "code",
      "metadata": {
        "id": "i2A0j-1GTO7t"
      },
      "source": [],
      "execution_count": null,
      "outputs": []
    },
    {
      "cell_type": "markdown",
      "metadata": {
        "id": "1Yn9MMLfTkv2"
      },
      "source": [
        "Los ciclos `for` para la segmentación multidimensional son manejados implícitamente por NumPy. Esto hace que realizar segmentaciones complejas sea mucho más rápido que escribir los ciclos `for` explícitamente en Python. Veamos algunos ejemplos:"
      ]
    },
    {
      "cell_type": "code",
      "metadata": {
        "id": "_FI0H0UrTRUm",
        "colab": {
          "base_uri": "https://localhost:8080/"
        },
        "outputId": "562a0f08-c0ea-4fa0-e452-5437d9999f03"
      },
      "source": [
        "#creamos un arreglo de dimensiones 4x4\n",
        "a= np.arange(16).reshape(4,4)\n",
        "a\n"
      ],
      "execution_count": null,
      "outputs": [
        {
          "output_type": "execute_result",
          "data": {
            "text/plain": [
              "array([[ 0,  1,  2,  3],\n",
              "       [ 4,  5,  6,  7],\n",
              "       [ 8,  9, 10, 11],\n",
              "       [12, 13, 14, 15]])"
            ]
          },
          "metadata": {},
          "execution_count": 23
        }
      ]
    },
    {
      "cell_type": "code",
      "metadata": {
        "id": "CpT39DIrTpYJ",
        "colab": {
          "base_uri": "https://localhost:8080/"
        },
        "outputId": "7f523685-be25-4251-e0a3-511622b6666e"
      },
      "source": [
        "#seleccionar la primer fila (equivalente a a[0,:])\n",
        "a[0,:]\n"
      ],
      "execution_count": null,
      "outputs": [
        {
          "output_type": "execute_result",
          "data": {
            "text/plain": [
              "array([0, 1, 2, 3])"
            ]
          },
          "metadata": {},
          "execution_count": 24
        }
      ]
    },
    {
      "cell_type": "code",
      "metadata": {
        "id": "Th1ugrBuTqzE",
        "colab": {
          "base_uri": "https://localhost:8080/"
        },
        "outputId": "3a16f3f7-9dd1-4c54-94c8-2f3551fd520c"
      },
      "source": [
        "# seleccionar la primera columna\n",
        "a[:,0]"
      ],
      "execution_count": null,
      "outputs": [
        {
          "output_type": "execute_result",
          "data": {
            "text/plain": [
              "array([ 0,  4,  8, 12])"
            ]
          },
          "metadata": {},
          "execution_count": 25
        }
      ]
    },
    {
      "cell_type": "code",
      "metadata": {
        "id": "2StElYzbTrzk",
        "colab": {
          "base_uri": "https://localhost:8080/"
        },
        "outputId": "7f8bdbc7-eb01-4507-892f-8d86aa92b40c"
      },
      "source": [
        "#segmentar las filas pares y las columnas impares.\n",
        "a[::2,1::2]"
      ],
      "execution_count": null,
      "outputs": [
        {
          "output_type": "execute_result",
          "data": {
            "text/plain": [
              "array([[ 1,  3],\n",
              "       [ 9, 11]])"
            ]
          },
          "metadata": {},
          "execution_count": 26
        }
      ]
    },
    {
      "cell_type": "code",
      "source": [
        "a[::1]"
      ],
      "metadata": {
        "colab": {
          "base_uri": "https://localhost:8080/"
        },
        "id": "hEVXSGIpamKr",
        "outputId": "13fcd98f-8fec-4abb-a494-013556c59a0e"
      },
      "execution_count": null,
      "outputs": [
        {
          "output_type": "execute_result",
          "data": {
            "text/plain": [
              "array([[ 0,  1,  2,  3],\n",
              "       [ 4,  5,  6,  7],\n",
              "       [ 8,  9, 10, 11],\n",
              "       [12, 13, 14, 15]])"
            ]
          },
          "metadata": {},
          "execution_count": 27
        }
      ]
    },
    {
      "cell_type": "code",
      "metadata": {
        "id": "eLuGgkGjTs8S",
        "colab": {
          "base_uri": "https://localhost:8080/"
        },
        "outputId": "04576e87-1b05-4f79-e275-ecefa50771f0"
      },
      "source": [
        "#segmentar la matriz interna de 2x2.\n",
        "a[1:3,1:3]"
      ],
      "execution_count": null,
      "outputs": [
        {
          "output_type": "execute_result",
          "data": {
            "text/plain": [
              "array([[ 5,  6],\n",
              "       [ 9, 10]])"
            ]
          },
          "metadata": {},
          "execution_count": 29
        }
      ]
    },
    {
      "cell_type": "code",
      "metadata": {
        "id": "2jad8UutTueC",
        "colab": {
          "base_uri": "https://localhost:8080/"
        },
        "outputId": "69452682-a995-4b12-b04f-f838fc3e1e7b"
      },
      "source": [
        "#invertir las primeras 3 filas, tomando las primeras 3 columnas\n",
        "a[2: : -1, :3]"
      ],
      "execution_count": null,
      "outputs": [
        {
          "output_type": "execute_result",
          "data": {
            "text/plain": [
              "array([[ 8,  9, 10],\n",
              "       [ 4,  5,  6],\n",
              "       [ 0,  1,  2]])"
            ]
          },
          "metadata": {},
          "execution_count": 35
        }
      ]
    },
    {
      "cell_type": "markdown",
      "metadata": {
        "id": "yEZpoKy_U9on"
      },
      "source": [
        "**Ejercicio 1**: Escriba un programa para crear un nuevo arreglo que sea el promedio de cada triplete consecutivo de elementos del siguiente arreglo\n",
        "\n",
        "<p><img alt=\"Colaboratory logo\" height=\"70px\" src=\"https://i.imgur.com/XoHovZd.png\" align=\"left\" hspace=\"10px\" vspace=\"0px\"></p>"
      ]
    },
    {
      "cell_type": "code",
      "metadata": {
        "id": "QNCPB_Y-VAui",
        "colab": {
          "base_uri": "https://localhost:8080/"
        },
        "outputId": "214bbe81-f951-4d4f-f1d7-5afd0264b485"
      },
      "source": [
        "a=np.array([1, 2, 3, 2, 4,6,1,2,12,0,-12,6]).reshape(4,3)\n",
        "print(a)\n",
        "np.mean(a,axis=1)"
      ],
      "execution_count": null,
      "outputs": [
        {
          "output_type": "stream",
          "name": "stdout",
          "text": [
            "[[  1   2   3]\n",
            " [  2   4   6]\n",
            " [  1   2  12]\n",
            " [  0 -12   6]]\n"
          ]
        },
        {
          "output_type": "execute_result",
          "data": {
            "text/plain": [
              "array([ 2.,  4.,  5., -2.])"
            ]
          },
          "metadata": {},
          "execution_count": 45
        }
      ]
    },
    {
      "cell_type": "code",
      "metadata": {
        "id": "uAYPhMAITuB4"
      },
      "source": [],
      "execution_count": null,
      "outputs": []
    },
    {
      "cell_type": "markdown",
      "metadata": {
        "id": "H_gSDAOvUPOO"
      },
      "source": [
        "<p><a name=\"enm\"></a></p>\n",
        "\n",
        "## **Enmascaramiento**\n",
        "\n",
        "El enmascaramiento aparece cuando deseamos extraer, modificar, o manipular valores en un arreglo de acuerdo con algún criterio.\n",
        "\n",
        "Ya vimos cómo utilizar ufuncs para operaciones aritméticas básicas y otro tipo de operaciones más complejas. NumPy implementa también operadores de comparación como ufuncs:"
      ]
    },
    {
      "cell_type": "code",
      "metadata": {
        "id": "VVuxGalrTvjC",
        "colab": {
          "base_uri": "https://localhost:8080/"
        },
        "outputId": "1276a40a-c787-4631-d39f-ba35fdee1c0e"
      },
      "source": [
        "x = np.arange(0,9).reshape(3,3)\n",
        "x"
      ],
      "execution_count": null,
      "outputs": [
        {
          "output_type": "execute_result",
          "data": {
            "text/plain": [
              "array([[0, 1, 2],\n",
              "       [3, 4, 5],\n",
              "       [6, 7, 8]])"
            ]
          },
          "metadata": {},
          "execution_count": 46
        }
      ]
    },
    {
      "cell_type": "code",
      "metadata": {
        "id": "sWHELIYFUaZ8",
        "colab": {
          "base_uri": "https://localhost:8080/"
        },
        "outputId": "0dd83ae8-507d-4519-90a4-50bd58ba024c"
      },
      "source": [
        "x < 5"
      ],
      "execution_count": null,
      "outputs": [
        {
          "output_type": "execute_result",
          "data": {
            "text/plain": [
              "array([[ True,  True,  True],\n",
              "       [ True,  True, False],\n",
              "       [False, False, False]])"
            ]
          },
          "metadata": {},
          "execution_count": 48
        }
      ]
    },
    {
      "cell_type": "markdown",
      "metadata": {
        "id": "vXHEYVLkUeBa"
      },
      "source": [
        "El resultado es un arreglo booleano. Dado un arreglo booleano, hay una serie de operaciones útiles que podemos implementar.\n",
        "\n",
        "Podemos utilizar la función `np.sum` junto con los operadores de comparación para realizar conteos dentro del arreglo:"
      ]
    },
    {
      "cell_type": "code",
      "metadata": {
        "id": "uozlXFWHUcdX",
        "colab": {
          "base_uri": "https://localhost:8080/"
        },
        "outputId": "00c85d30-723c-4e04-83ae-c1e8723e7bac"
      },
      "source": [
        "# numero de elementos menores a 6\n",
        "x[x < 5]"
      ],
      "execution_count": null,
      "outputs": [
        {
          "output_type": "execute_result",
          "data": {
            "text/plain": [
              "array([0, 1, 2, 3, 4])"
            ]
          },
          "metadata": {},
          "execution_count": 50
        }
      ]
    },
    {
      "cell_type": "code",
      "source": [],
      "metadata": {
        "colab": {
          "base_uri": "https://localhost:8080/"
        },
        "id": "AtURDxmzf-F_",
        "outputId": "1abfc19b-b977-402e-fdb3-6e2ac9188f23"
      },
      "execution_count": null,
      "outputs": [
        {
          "output_type": "execute_result",
          "data": {
            "text/plain": [
              "5"
            ]
          },
          "metadata": {},
          "execution_count": 51
        }
      ]
    },
    {
      "cell_type": "markdown",
      "metadata": {
        "id": "oVPqEJ-JUhso"
      },
      "source": [
        "Con `np.sum` podemos realizar este tipo de conteos a lo largo de las filas o columnas, utilizando el argumento por palabra clave `axis`:"
      ]
    },
    {
      "cell_type": "code",
      "metadata": {
        "id": "04aIRcFfUhQX",
        "colab": {
          "base_uri": "https://localhost:8080/"
        },
        "outputId": "dbbae10c-307b-4678-899d-192563b564ec"
      },
      "source": [
        "# numero de elementos menores a 6 por columna\n",
        "np.sum(x < 5)"
      ],
      "execution_count": null,
      "outputs": [
        {
          "output_type": "execute_result",
          "data": {
            "text/plain": [
              "5"
            ]
          },
          "metadata": {},
          "execution_count": 52
        }
      ]
    },
    {
      "cell_type": "code",
      "metadata": {
        "id": "QHUMFUXRUjnx",
        "colab": {
          "base_uri": "https://localhost:8080/"
        },
        "outputId": "206ba63c-9860-4201-b44c-66597d3d538d"
      },
      "source": [
        "# numero de elementos menores a 6 por fila\n",
        "np.sum(x < 5, axis =1)"
      ],
      "execution_count": null,
      "outputs": [
        {
          "output_type": "execute_result",
          "data": {
            "text/plain": [
              "array([3, 2, 0])"
            ]
          },
          "metadata": {},
          "execution_count": 53
        }
      ]
    },
    {
      "cell_type": "markdown",
      "metadata": {
        "id": "C-t07HoyUl_p"
      },
      "source": [
        "Podemos también tener múltiples condiciones en un conteo, utilizando los operadores lógicos `&` (and) y `|` (or)"
      ]
    },
    {
      "cell_type": "code",
      "metadata": {
        "id": "prKpmML_UkpK",
        "colab": {
          "base_uri": "https://localhost:8080/"
        },
        "outputId": "4d26cb98-73bb-4dc5-be62-fc8667938233"
      },
      "source": [
        "# verdadero si ambos verdaderos\n",
        "np.sum((x >1) & (x < 5))"
      ],
      "execution_count": null,
      "outputs": [
        {
          "output_type": "execute_result",
          "data": {
            "text/plain": [
              "3"
            ]
          },
          "metadata": {},
          "execution_count": 54
        }
      ]
    },
    {
      "cell_type": "code",
      "metadata": {
        "id": "0U2206s0UpKm",
        "colab": {
          "base_uri": "https://localhost:8080/"
        },
        "outputId": "38d7b5b4-2bcd-4a26-dc85-46d2eb11935f"
      },
      "source": [
        "# verdadero en caso en que alguno de los dos sea verdadero\n",
        "np.sum((x <1) | (x > 5))"
      ],
      "execution_count": null,
      "outputs": [
        {
          "output_type": "execute_result",
          "data": {
            "text/plain": [
              "4"
            ]
          },
          "metadata": {},
          "execution_count": 55
        }
      ]
    },
    {
      "cell_type": "markdown",
      "metadata": {
        "id": "jjAJOIelUt2w"
      },
      "source": [
        "Una herramienta muy poderosa es usar los arreglos booleanos como máscaras, para seleccionar subconjuntos particulares de los datos mismos.\n",
        "\n",
        "Volviendo a nuestra arreglo `x` anterior, supongamos que queremos un arreglo de todos los valores en `x` que sean menores que, digamos, 5. Para seleccionar estos valores del arreglo, simplemente podemos indexar con este arreglo booleano; esto se conoce como una operación de enmascaramiento:"
      ]
    },
    {
      "cell_type": "code",
      "metadata": {
        "id": "6qgYD78ZZg-9",
        "colab": {
          "base_uri": "https://localhost:8080/"
        },
        "outputId": "32ad6fac-1d68-402b-9c64-75a2320cb95f"
      },
      "source": [
        "x[x < 5]"
      ],
      "execution_count": null,
      "outputs": [
        {
          "output_type": "execute_result",
          "data": {
            "text/plain": [
              "array([0, 1, 2, 3, 4])"
            ]
          },
          "metadata": {},
          "execution_count": 56
        }
      ]
    },
    {
      "cell_type": "code",
      "metadata": {
        "id": "dSUH38jQZvw7"
      },
      "source": [],
      "execution_count": null,
      "outputs": []
    },
    {
      "cell_type": "code",
      "metadata": {
        "id": "-liexEjCUpxO"
      },
      "source": [],
      "execution_count": null,
      "outputs": []
    },
    {
      "cell_type": "markdown",
      "metadata": {
        "id": "nA9nv0TWUxCI"
      },
      "source": [
        "Lo que se devuelve es un arreglo unidimensional con todos los valores que cumplen la condición; en otras palabras, todos los valores en las posiciones en las que el arreglo de máscara es `True`."
      ]
    },
    {
      "cell_type": "markdown",
      "metadata": {
        "id": "CyRtn9p6n4jl"
      },
      "source": [
        "**Ejercicio 2:** Escriba una función que, dado un número entero `n`, muestre:\n",
        "\n",
        "* Un arreglo con los primeros números pares hasta `n`.\n",
        "* Un arreglo con los primeros números múltiplos de tres hasta `n`."
      ]
    },
    {
      "cell_type": "code",
      "metadata": {
        "id": "jrEWPzNZn4C3",
        "colab": {
          "base_uri": "https://localhost:8080/"
        },
        "outputId": "34514f77-e570-4299-aaf4-e7d5e5f1aa0f"
      },
      "source": [
        "def f():\n",
        "  a=np.arange(9)\n",
        "  print(a[(a % 2)==0])\n",
        "  print(a[np.mod(a,3)==0] )\n",
        "f()"
      ],
      "execution_count": null,
      "outputs": [
        {
          "output_type": "stream",
          "name": "stdout",
          "text": [
            "[0 2 4 6 8]\n",
            "[0 3 6]\n"
          ]
        }
      ]
    },
    {
      "cell_type": "markdown",
      "metadata": {
        "id": "1W5g7B-kUzzY"
      },
      "source": [
        "**Ejercicio 3:** Escribir un programa que lea `n` números enteros, calcule y muestre la suma de los pares y el producto de los impares."
      ]
    },
    {
      "cell_type": "code",
      "metadata": {
        "id": "Tnr_GC3AdgwV"
      },
      "source": [
        "#arg vbles y entrada de usr"
      ],
      "execution_count": null,
      "outputs": []
    },
    {
      "cell_type": "code",
      "metadata": {
        "id": "XlTLY7TUaEJP"
      },
      "source": [],
      "execution_count": null,
      "outputs": []
    },
    {
      "cell_type": "code",
      "metadata": {
        "id": "7I65RO5YUvlo"
      },
      "source": [],
      "execution_count": null,
      "outputs": []
    },
    {
      "cell_type": "markdown",
      "metadata": {
        "id": "hLAwh9cHWewl"
      },
      "source": [
        "<p><a name=\"sof\"></a></p>\n",
        "\n",
        "# **Indexación sofisticada**\n",
        "\n",
        "Anteriormente vimos cómo acceder y modificar porciones de arreglos usando índices simples (por ejemplo, `arr[0]`), segmentos (por ejemplo, `arr[: 5]`) y máscaras booleanas (por ejemplo, `arr[arr> 0]`). Veremos ahora otro estilo de indexación de arreglos, conocido como *indexación sofisticada*, la cual nos permite acceder y modificar muy rápidamente subconjuntos complicados de los valores de un arreglo.\n",
        "\n",
        "La indexación sofisticada es conceptualmente simple: significa pasar una lista de índices en lugar de un entero, para acceder a múltiples elementos del arreglo a la vez. Veamos un ejemplo:"
      ]
    },
    {
      "cell_type": "code",
      "metadata": {
        "id": "7jlRBNX1WoKL",
        "colab": {
          "base_uri": "https://localhost:8080/"
        },
        "outputId": "c96f3c78-4ed6-4a97-b10b-b3e8943a4515"
      },
      "source": [
        "a = np.arange(10,20)\n",
        "a"
      ],
      "execution_count": null,
      "outputs": [
        {
          "output_type": "execute_result",
          "data": {
            "text/plain": [
              "array([10, 11, 12, 13, 14, 15, 16, 17, 18, 19])"
            ]
          },
          "metadata": {},
          "execution_count": 79
        }
      ]
    },
    {
      "cell_type": "code",
      "metadata": {
        "id": "6xTl6MX0Wt1a",
        "colab": {
          "base_uri": "https://localhost:8080/"
        },
        "outputId": "b62a653a-3261-4eb2-a0a8-6e99926fe59e"
      },
      "source": [
        "#extraer indices 0,4 y 6\n",
        "print(a[0], a[4], a[6])\n",
        "#mejor\n",
        "indices= [0, 4, 6]\n",
        "a[indices]"
      ],
      "execution_count": null,
      "outputs": [
        {
          "output_type": "stream",
          "name": "stdout",
          "text": [
            "0 4 6\n"
          ]
        },
        {
          "output_type": "execute_result",
          "data": {
            "text/plain": [
              "array([0, 4, 6])"
            ]
          },
          "metadata": {},
          "execution_count": 75
        }
      ]
    },
    {
      "cell_type": "code",
      "metadata": {
        "id": "L_2zmfWBWvQ_"
      },
      "source": [],
      "execution_count": null,
      "outputs": []
    },
    {
      "cell_type": "markdown",
      "metadata": {
        "id": "ZO2EuXhtWz7J"
      },
      "source": [
        "Con el indexado sofisticado, la forma del resultado refleja la forma del arreglo de índices más que la forma del arreglo que se está indexando:"
      ]
    },
    {
      "cell_type": "code",
      "metadata": {
        "id": "nOAWL1uxWxnA"
      },
      "source": [],
      "execution_count": null,
      "outputs": []
    },
    {
      "cell_type": "code",
      "metadata": {
        "id": "nyPpXUySW1sX",
        "colab": {
          "base_uri": "https://localhost:8080/"
        },
        "outputId": "130a5bef-d8b4-4f77-fd6c-b033b57bfade"
      },
      "source": [
        "# creamos arreglo de indices con forma (2,2)\n",
        "indi = np.array([[3, 7],[4, 9]])\n",
        "indi\n",
        "a[indi]"
      ],
      "execution_count": null,
      "outputs": [
        {
          "output_type": "execute_result",
          "data": {
            "text/plain": [
              "array([[13, 17],\n",
              "       [14, 19]])"
            ]
          },
          "metadata": {},
          "execution_count": 80
        }
      ]
    },
    {
      "cell_type": "markdown",
      "metadata": {
        "id": "xDL95LxEW9Ga"
      },
      "source": [
        "El indexado sofisticado funciona también en múltiples dimensiones. Veámoslo en el siguiente ejemplo:"
      ]
    },
    {
      "cell_type": "code",
      "metadata": {
        "id": "gxoO0ii-W3MX"
      },
      "source": [],
      "execution_count": null,
      "outputs": []
    }
  ]
}